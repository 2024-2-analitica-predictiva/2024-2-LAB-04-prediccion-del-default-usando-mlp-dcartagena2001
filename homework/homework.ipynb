{
 "cells": [
  {
   "cell_type": "code",
   "execution_count": 1,
   "metadata": {},
   "outputs": [],
   "source": [
    "# Librerías estándar\n",
    "import os\n",
    "import gzip\n",
    "import pickle\n",
    "import zipfile\n",
    "import json\n",
    "\n",
    "# Manipulación y análisis de datos\n",
    "import pandas as pd\n",
    "import numpy as np\n",
    "\n",
    "# Scikit-learn\n",
    "from sklearn.model_selection import train_test_split, StratifiedKFold, GridSearchCV\n",
    "from sklearn.preprocessing import OneHotEncoder, StandardScaler, MinMaxScaler, normalize\n",
    "from sklearn.compose import ColumnTransformer\n",
    "from sklearn.pipeline import Pipeline, make_pipeline\n",
    "from sklearn.linear_model import LogisticRegression\n",
    "from sklearn.decomposition import PCA\n",
    "from sklearn.feature_selection import SelectKBest, chi2, f_classif\n",
    "from sklearn.neural_network import MLPClassifier\n",
    "from sklearn.metrics import (\n",
    "    accuracy_score, balanced_accuracy_score, precision_score,\n",
    "    recall_score, f1_score, confusion_matrix\n",
    ")\n"
   ]
  },
  {
   "cell_type": "markdown",
   "metadata": {},
   "source": [
    "# Paso 1.\n",
    " Realice la limpieza de los datasets:\n",
    " - Renombre la columna \"default payment next month\" a \"default\".\n",
    " - Remueva la columna \"ID\".\n",
    " - Elimine los registros con informacion no disponible.\n",
    " - Para la columna EDUCATION, valores > 4 indican niveles superiores\n",
    "   de educación, agrupe estos valores en la categoría \"others\".\n",
    " - Renombre la columna \"default payment next month\" a \"default\" y remueva la columna \"ID\".\n",
    " - Divida los datasets en x_train, y_train, x_test, y_test."
   ]
  },
  {
   "cell_type": "code",
   "execution_count": 2,
   "metadata": {},
   "outputs": [],
   "source": [
    "\n",
    "# 1.1 Cargar los datos\n",
    "train_data = pd.read_csv(\"../files/input/train_data.csv.zip\", index_col=False, compression=\"zip\")\n",
    "test_data = pd.read_csv(\"../files/input/test_data.csv.zip\", index_col=False, compression=\"zip\")\n",
    "\n",
    "# 1.2 Organizar los datasets:\n",
    "\n",
    "def clean(df):\n",
    "    df = df.rename(columns={'default payment next month': 'default'})\n",
    "    df.drop('ID', axis=1, inplace=True)\n",
    "    df['EDUCATION'] = df['EDUCATION'].apply(lambda x: 4 if x > 4 else x)\n",
    "    df = df.query('MARRIAGE > 0 and EDUCATION > 0')\n",
    "    df = df.dropna()\n",
    "    return df\n",
    "\n",
    "\n",
    "train_data = clean(train_data)\n",
    "test_data = clean(test_data)\n",
    "\n",
    "x_train = train_data.drop(columns=[\"default\"])\n",
    "y_train = train_data[\"default\"]\n",
    "\n",
    "x_test = test_data.drop(columns=[\"default\"])\n",
    "y_test = test_data[\"default\"]\n",
    "\n"
   ]
  },
  {
   "cell_type": "markdown",
   "metadata": {},
   "source": [
    "# Paso 3.\n",
    " Cree un pipeline para el modelo de clasificación. Este pipeline debe contener las siguientes capas:\n",
    "- Transforma las variables categoricas usando el método\n",
    "   one-hot-encoding.\n",
    " - Escala las demas variables al intervalo [0, 1].\n",
    " - Selecciona las K mejores caracteristicas.\n",
    " - Ajusta un modelo de regresion logistica."
   ]
  },
  {
   "cell_type": "code",
   "execution_count": 3,
   "metadata": {},
   "outputs": [
    {
     "name": "stdout",
     "output_type": "stream",
     "text": [
      "0.8217916288836921\n",
      "0.8281545829156922\n"
     ]
    }
   ],
   "source": [
    "# Variables categóricas y numéricas\n",
    "Categoria = ['SEX', 'EDUCATION', 'MARRIAGE']\n",
    "numericas = ['LIMIT_BAL', 'AGE', 'PAY_0', 'PAY_2', 'PAY_3', 'PAY_4', 'PAY_5', 'PAY_6', 'BILL_AMT1', 'BILL_AMT2', 'BILL_AMT3', 'BILL_AMT4', 'BILL_AMT5', 'BILL_AMT6', 'PAY_AMT1','PAY_AMT2', 'PAY_AMT3', 'PAY_AMT4', 'PAY_AMT5', 'PAY_AMT6' ]\n",
    "#prusar\n",
    "# ColumnTransformer para preprocesar los datos\n",
    "transformer = ColumnTransformer(\n",
    "    transformers=[\n",
    "        (\"ohe\", OneHotEncoder(), Categoria),\n",
    "        ('num', StandardScaler(), numericas)\n",
    "    ],\n",
    ")\n",
    "\n",
    "# Pipeline con selección de características y modelo MLP\n",
    "pipelineMLP = Pipeline(steps=[\n",
    "    ('transformer', transformer),                  # Preprocesamiento\n",
    "    ('kbest', SelectKBest(score_func=f_classif)),  # Selección de las K mejores variables\n",
    "    ('pca', PCA()),                                # PCA con todas las componentes                   # Escalado a [0, 1]\n",
    "    ('mlp', MLPClassifier(random_state=17,max_iter=15000\n",
    "                          #early_stopping=True\n",
    "                          ))\n",
    "])\n",
    "\n",
    "# Entrenamiento del modelo\n",
    "pipelineMLP.fit(x_train, y_train)\n",
    "\n",
    "print(pipelineMLP.score(x_train,y_train))\n",
    "print(pipelineMLP.score(x_test,y_test))\n"
   ]
  },
  {
   "cell_type": "markdown",
   "metadata": {},
   "source": [
    "# Optimizacion de hiperametros\n",
    "- Optimice los hiperparametros del pipeline usando validación cruzada.\n",
    "- Use 10 splits para la validación cruzada.\n",
    "- Use la función de precision balanceada para medir la precisión del modelo."
   ]
  },
  {
   "cell_type": "code",
   "execution_count": null,
   "metadata": {},
   "outputs": [
    {
     "name": "stdout",
     "output_type": "stream",
     "text": [
      "Fitting 10 folds for each of 1 candidates, totalling 10 fits\n"
     ]
    }
   ],
   "source": [
    "param_grid = {\n",
    "    'pca__n_components': [None],\n",
    "    'kbest__k':[20],\n",
    "    \"mlp__hidden_layer_sizes\": [(50, 30, 40,60)],\n",
    "    'mlp__alpha': [0.26],\n",
    "    \"mlp__learning_rate_init\": [0.001],\n",
    "}\n",
    "\n",
    "\n",
    "\n",
    "# Configuración de GridSearchCV\n",
    "grid_search = GridSearchCV(\n",
    "    estimator=pipelineMLP,\n",
    "    param_grid=param_grid,\n",
    "    cv=10,\n",
    "    scoring='balanced_accuracy',\n",
    "    n_jobs=-1,\n",
    "    refit=True,\n",
    "    verbose=True\n",
    ")\n",
    "\n",
    "# Ajustar el modelo con la búsqueda en cuadrícula\n",
    "grid_search.fit(x_train, y_train)\n"
   ]
  },
  {
   "cell_type": "code",
   "execution_count": 5,
   "metadata": {},
   "outputs": [
    {
     "name": "stdout",
     "output_type": "stream",
     "text": [
      "{'kbest__k': 20, 'mlp__alpha': 0.26, 'mlp__hidden_layer_sizes': (50, 30, 40, 60), 'mlp__learning_rate_init': 0.001, 'pca__n_components': None}\n"
     ]
    }
   ],
   "source": [
    "print(grid_search.best_params_)"
   ]
  },
  {
   "cell_type": "code",
   "execution_count": null,
   "metadata": {},
   "outputs": [
    {
     "name": "stdout",
     "output_type": "stream",
     "text": [
      "Precisión balanceada en entrenamiento: 0.6581299842663441\n",
      "Precisión en prueba: 0.6695640976303335\n",
      "Precisión en prueba: 0.6630025835547158\n"
     ]
    }
   ],
   "source": [
    "# Evaluación del mejor modelo\n",
    "print(\"Precisión balanceada en entrenamiento:\", grid_search.best_score_)\n",
    "print(\"Precisión en prueba:\", grid_search.score(x_test, y_test))\n",
    "print(\"Precisión en prueba:\", grid_search.score(x_train, y_train))"
   ]
  },
  {
   "cell_type": "markdown",
   "metadata": {},
   "source": [
    "# Guardar el modelo\n",
    "- Guarde el modelo (comprimido con gzip) como \"files/models/model.pkl.gz\".\n",
    "- Recuerde que es posible guardar el modelo comprimido usanzo la libreria gzip."
   ]
  },
  {
   "cell_type": "code",
   "execution_count": 7,
   "metadata": {},
   "outputs": [],
   "source": [
    "os.makedirs('../files/models', exist_ok=True)\n",
    "\n",
    "with gzip.open('../files/models/model.pkl.gz', 'wb') as file:\n",
    "    pickle.dump(grid_search, file)\n",
    "\n",
    "def cargar_modelo_y_predecir(data, modelo_path=\"../files/models/model.pkl.gz\"):\n",
    "    try:\n",
    "        with gzip.open(modelo_path, \"rb\") as file:\n",
    "            estimator = pickle.load(file)\n",
    "        return estimator.predict(data)\n",
    "    except FileNotFoundError:\n",
    "        raise FileNotFoundError(f\"No se encontró el archivo de modelo en la ruta especificada: {modelo_path}\")\n",
    "    except Exception as e:\n",
    "        raise RuntimeError(f\"Error al cargar el modelo o realizar predicciones: {e}\")\n",
    "    \n",
    "# Uso de la función\n",
    "y_train_pred = cargar_modelo_y_predecir(x_train)\n",
    "y_test_pred = cargar_modelo_y_predecir(x_test)"
   ]
  },
  {
   "cell_type": "markdown",
   "metadata": {},
   "source": [
    "# Calculo de metricas de precision\n",
    "\n",
    "- Calcule las metricas de precision, precision balanceada, recall, f1-score para los conjuntos de entrenamiento y prueba.\n",
    "- Guardelas en el archivo files/output/metrics.json. Cada fila del archivo es un diccionario con las metricas de un modelo.\n",
    "- Este diccionario tiene un campo para indicar si es el conjunto de entrenamiento o prueba.\n",
    "\n",
    "# Calculo Matrices de confucion \n",
    "\n",
    "- Calcule las matrices de confusion para los conjuntos de entrenamiento y prueba. \n",
    "- Guardelas en el archivo files/output/metrics.json. \n",
    "- Cada fila del archivo es un diccionario con las metricas de un modelo de entrenamiento o prueba. Por ejemplo:\n"
   ]
  },
  {
   "cell_type": "code",
   "execution_count": 8,
   "metadata": {},
   "outputs": [],
   "source": [
    "import os\n",
    "import json\n",
    "from sklearn.metrics import accuracy_score, precision_score, balanced_accuracy_score, recall_score, f1_score, confusion_matrix\n",
    "\n",
    "def metricas(dict_metricas):\n",
    "    models_dir = '../files/output'\n",
    "    os.makedirs(models_dir, exist_ok=True)\n",
    "\n",
    "    if os.path.exists('../files/output/metrics.json'):\n",
    "        with open('../files/output/metrics.json', mode='r') as file:\n",
    "            if len(file.readlines()) >= 4:\n",
    "                os.remove('../files/output/metrics.json')\n",
    "\n",
    "    with open('../files/output/metrics.json', mode='a') as file:\n",
    "        file.write(str(dict_metricas).replace(\"'\", '\"') + \"\\n\")\n",
    "\n",
    "\n",
    "def evaluacion(dataset, y_true, y_pred):\n",
    "    accuracy = float(accuracy_score(y_true, y_pred))\n",
    "    precision = float(precision_score(y_true, y_pred))\n",
    "    balanced_accuracy = float(balanced_accuracy_score(y_true, y_pred))\n",
    "    recall = float(recall_score(y_true, y_pred))\n",
    "    f1 = float(f1_score(y_true, y_pred))\n",
    "    metrics = {\n",
    "        \"type\": \"metrics\",\n",
    "        \"dataset\": dataset,\n",
    "        \"precision\": precision,\n",
    "        \"balanced_accuracy\": balanced_accuracy,\n",
    "        \"recall\": recall,\n",
    "        \"f1_score\": f1\n",
    "    }\n",
    "\n",
    "    metricas(metrics)\n",
    "\n",
    "metrics_train = evaluacion('train', y_train, y_train_pred)\n",
    "metrics_test = evaluacion('test', y_test, y_test_pred)\n",
    "\n",
    "def matriz_confusion(dataset, y_true, y_pred):\n",
    "    matriz = confusion_matrix(y_true, y_pred)\n",
    "    matrix_confusion = {\n",
    "        \"type\": \"cm_matrix\",\n",
    "        \"dataset\": dataset,\n",
    "        \"true_0\": {\n",
    "            \"predicted_0\": int(matriz[0, 0]),\n",
    "            \"predicted_1\": int(matriz[0, 1]),\n",
    "        },\n",
    "        \"true_1\": {\n",
    "            \"predicted_0\": int(matriz[1, 0]),\n",
    "            \"predicted_1\": int(matriz[1, 1])\n",
    "        }\n",
    "    }\n",
    "\n",
    "    metricas(json.dumps(matrix_confusion))\n",
    "\n",
    "\n",
    "metrics_train_cm = matriz_confusion('train', y_train, y_train_pred)\n",
    "metrics_test_cm = matriz_confusion('test', y_test, y_test_pred)\n"
   ]
  },
  {
   "cell_type": "markdown",
   "metadata": {},
   "source": [
    "# el mejor que he encontrado\n",
    "param_grid = {\n",
    "        \"mlp__hidden_layer_sizes\": [(3,)],\n",
    "        \"mlp__learning_rate_init\": [1],\n",
    "        \"mlp__activation\":['logistic'],\n",
    "        \"mlp__learning_rate\": ['adaptive'],\n",
    "        \"mlp__max_iter\": [2000]\n",
    "    }\n"
   ]
  },
  {
   "cell_type": "markdown",
   "metadata": {},
   "source": [
    "param_grid = {\n",
    "        \"mlp__hidden_layer_sizes\": [(3,)],\n",
    "        \"mlp__learning_rate_init\": [1],\n",
    "        \"mlp__activation\":['logistic'],\n",
    "        \"mlp__learning_rate\": ['adaptive'],\n",
    "        \"mlp__max_iter\": [2000],\n",
    "        \"mlp__alpha\":[0.0001,0.001,0.01,1]\n",
    "    }\n"
   ]
  }
 ],
 "metadata": {
  "kernelspec": {
   "display_name": ".venv",
   "language": "python",
   "name": "python3"
  },
  "language_info": {
   "codemirror_mode": {
    "name": "ipython",
    "version": 3
   },
   "file_extension": ".py",
   "mimetype": "text/x-python",
   "name": "python",
   "nbconvert_exporter": "python",
   "pygments_lexer": "ipython3",
   "version": "3.12.3"
  }
 },
 "nbformat": 4,
 "nbformat_minor": 2
}
